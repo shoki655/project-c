{
  "nbformat": 4,
  "nbformat_minor": 0,
  "metadata": {
    "colab": {
      "provenance": [],
      "collapsed_sections": [
        "7jHUweKsUPQ_",
        "8mH0AkKtUp9K",
        "ERsVgsbQU3eB",
        "FZAmi8r2XlXt",
        "vKlyOt2MNJH4",
        "9Ama5dc2zbC1",
        "0Ehtdpme3QBu",
        "4-5S53WI_n2q",
        "iM5u5EBv7V73",
        "ZdsUS0TTA83n",
        "6eRu2UVh2evN"
      ],
      "mount_file_id": "1Bpc_f3jFt1N-MlByAc0tNm4ycQK9Onpz",
      "authorship_tag": "ABX9TyMjo/f4yVGyJ0NvEKUO8+Ss",
      "include_colab_link": true
    },
    "kernelspec": {
      "name": "python3",
      "display_name": "Python 3"
    }
  },
  "cells": [
    {
      "cell_type": "markdown",
      "metadata": {
        "id": "view-in-github",
        "colab_type": "text"
      },
      "source": [
        "<a href=\"https://colab.research.google.com/github/shoki655/project-c/blob/master/src/learning_python.ipynb\" target=\"_parent\"><img src=\"https://colab.research.google.com/assets/colab-badge.svg\" alt=\"Open In Colab\"/></a>"
      ]
    },
    {
      "cell_type": "markdown",
      "metadata": {
        "id": "tN1J3MiuUZNc"
      },
      "source": [
        "# learning python"
      ]
    },
    {
      "cell_type": "markdown",
      "metadata": {
        "id": "7jHUweKsUPQ_"
      },
      "source": [
        "## 1-1"
      ]
    },
    {
      "cell_type": "code",
      "metadata": {
        "id": "MChKqboqKIAh"
      },
      "source": [
        "import math"
      ],
      "execution_count": null,
      "outputs": []
    },
    {
      "cell_type": "code",
      "metadata": {
        "id": "4lwMHoB7Uui4",
        "colab": {
          "base_uri": "https://localhost:8080/"
        },
        "outputId": "0e26eac7-7e65-42f2-862e-7bd4fa3e8c1b"
      },
      "source": [
        "(math.sqrt(5)+1)/2"
      ],
      "execution_count": null,
      "outputs": [
        {
          "output_type": "execute_result",
          "data": {
            "text/plain": [
              "1.618033988749895"
            ]
          },
          "metadata": {
            "tags": []
          },
          "execution_count": 31
        }
      ]
    },
    {
      "cell_type": "markdown",
      "metadata": {
        "id": "8mH0AkKtUp9K"
      },
      "source": [
        "## 1-2"
      ]
    },
    {
      "cell_type": "code",
      "metadata": {
        "id": "QIYjhiuMNrQC"
      },
      "source": [
        "def feet_to_cm(f, i):\n",
        "  return (f + i / 12) * 30.48"
      ],
      "execution_count": null,
      "outputs": []
    },
    {
      "cell_type": "code",
      "metadata": {
        "id": "m9n3ls7fPi1g",
        "colab": {
          "base_uri": "https://localhost:8080/"
        },
        "outputId": "0d42e7c3-9f6e-4292-dd63-efe3733512c3"
      },
      "source": [
        "def check_similar(x,y):\n",
        "    print(abs(x-y)<0.000001)\n",
        "\n",
        "check_similar(feet_to_cm(5,2),157.48)\n",
        "check_similar(feet_to_cm(6,5),195.58)"
      ],
      "execution_count": null,
      "outputs": [
        {
          "output_type": "stream",
          "text": [
            "True\n",
            "True\n"
          ],
          "name": "stdout"
        }
      ]
    },
    {
      "cell_type": "code",
      "metadata": {
        "id": "aJ9gVz6oQDAZ"
      },
      "source": [
        "def quadratic(a, b, c, x): # 二次関数を求める\n",
        "  return a * x**2 + b * x + c"
      ],
      "execution_count": null,
      "outputs": []
    },
    {
      "cell_type": "code",
      "metadata": {
        "id": "G4cpahw_QNx3",
        "colab": {
          "base_uri": "https://localhost:8080/"
        },
        "outputId": "be12d708-ea6c-42c3-fc59-79e6115e356a"
      },
      "source": [
        "print(quadratic(1,2,1,3) == 16)\n",
        "print(quadratic(1,-5,-2,7) == 12)"
      ],
      "execution_count": null,
      "outputs": [
        {
          "output_type": "stream",
          "text": [
            "True\n",
            "True\n"
          ],
          "name": "stdout"
        }
      ]
    },
    {
      "cell_type": "code",
      "metadata": {
        "id": "buhwUfDuReEj"
      },
      "source": [
        "def det(a, b, c):\n",
        "    return b**2 - 4*a*c"
      ],
      "execution_count": null,
      "outputs": []
    },
    {
      "cell_type": "code",
      "metadata": {
        "id": "9pXkpQB3ScmL"
      },
      "source": [
        "def solution1(a, b, c):\n",
        "    x_small = (-b - math.sqrt(det(a, b, c))) / 2*a\n",
        "    return x_small"
      ],
      "execution_count": null,
      "outputs": []
    },
    {
      "cell_type": "code",
      "metadata": {
        "id": "O7OAiVNyTFp0"
      },
      "source": [
        "def solution2(a, b, c):\n",
        "    x_large = (-b + math.sqrt(det(a, b, c))) / 2*a\n",
        "    return x_large"
      ],
      "execution_count": null,
      "outputs": []
    },
    {
      "cell_type": "code",
      "metadata": {
        "id": "kg-VrYxrTVfO",
        "colab": {
          "base_uri": "https://localhost:8080/"
        },
        "outputId": "7e7b3d76-269e-4a5d-defc-26f835f8242e"
      },
      "source": [
        "print(det(1,-2,1) == 0)\n",
        "print(det(1,-5,6) == 1)\n",
        "def check_similar(x,y):\n",
        "    print(abs(x-y)<0.000001)\n",
        "check_similar(solution1(1,-2,1),1.0)\n",
        "check_similar(solution2(1,-2,1),1.0)\n",
        "check_similar(solution1(1,-5,6),2.0)\n",
        "check_similar(solution2(1,-5,6),3.0)"
      ],
      "execution_count": null,
      "outputs": [
        {
          "output_type": "stream",
          "text": [
            "True\n",
            "True\n",
            "True\n",
            "True\n",
            "True\n",
            "True\n"
          ],
          "name": "stdout"
        }
      ]
    },
    {
      "cell_type": "markdown",
      "metadata": {
        "id": "ERsVgsbQU3eB"
      },
      "source": [
        "## 1-3"
      ]
    },
    {
      "cell_type": "code",
      "metadata": {
        "id": "Q7HlnSVYULvi"
      },
      "source": [
        "def absolute(x):\n",
        "  if x < 0:\n",
        "      x = -x\n",
        "  return x"
      ],
      "execution_count": null,
      "outputs": []
    },
    {
      "cell_type": "code",
      "metadata": {
        "id": "IPUu8C3WWWHh"
      },
      "source": [
        "def sign(x):\n",
        "  if x > 0:\n",
        "    return 1\n",
        "  elif x < 0:\n",
        "    return -1\n",
        "  else:\n",
        "    return 0"
      ],
      "execution_count": null,
      "outputs": []
    },
    {
      "cell_type": "code",
      "metadata": {
        "id": "c_pe3xY5WxNj",
        "colab": {
          "base_uri": "https://localhost:8080/",
          "height": 119
        },
        "outputId": "32cfec05-5a30-4f5d-9c6e-b5967dd1e94c"
      },
      "source": [
        "print(absolute(5) == 5)\n",
        "print(absolute(-5) == 5)\n",
        "print(absolute(0) == 0)\n",
        "print(sign(5) == 1)\n",
        "print(sign(-5) == -1)\n",
        "print(sign(0) == 0)"
      ],
      "execution_count": null,
      "outputs": [
        {
          "output_type": "stream",
          "text": [
            "True\n",
            "True\n",
            "True\n",
            "True\n",
            "True\n",
            "True\n"
          ],
          "name": "stdout"
        }
      ]
    },
    {
      "cell_type": "markdown",
      "metadata": {
        "id": "FZAmi8r2XlXt"
      },
      "source": [
        "## 2-1"
      ]
    },
    {
      "cell_type": "code",
      "metadata": {
        "id": "h82OUQoDXnXM"
      },
      "source": [
        "def remove_punctuations(str_engsentences):\n",
        "  str_engsentences = str_engsentences.replace('.', '') # 元の文字列は変化しない\n",
        "  str_engsentences = str_engsentences.replace(',', '')\n",
        "  str_engsentences = str_engsentences.replace(':', '')\n",
        "  str_engsentences = str_engsentences.replace(';', '')\n",
        "  str_engsentences = str_engsentences.replace('!', '')\n",
        "  str_engsentences = str_engsentences.replace('?', '')\n",
        "  return str_engsentences"
      ],
      "execution_count": null,
      "outputs": []
    },
    {
      "cell_type": "code",
      "metadata": {
        "id": "pQTvkab0Ylii",
        "colab": {
          "base_uri": "https://localhost:8080/",
          "height": 51
        },
        "outputId": "8eb094b3-76ae-46a2-8b1a-efe7c6ff9ed4"
      },
      "source": [
        "print(remove_punctuations('Quiet, uh, donations, you want me to make a donation to the coast guard youth auxiliary?') == 'Quiet uh donations you want me to make a donation to the coast guard youth auxiliary')"
      ],
      "execution_count": null,
      "outputs": [
        {
          "output_type": "stream",
          "text": [
            "Quiet uh donations you want me to make a donation to the coast guard youth auxiliary\n",
            "True\n"
          ],
          "name": "stdout"
        }
      ]
    },
    {
      "cell_type": "code",
      "metadata": {
        "id": "1sT9JZ-3bJDo"
      },
      "source": [
        "def atgc_bppair(str_atgc):\n",
        "  str_atgc = str_atgc.replace('A', 't')\n",
        "  str_atgc = str_atgc.replace('T', 'a')\n",
        "  str_atgc = str_atgc.replace('G', 'c')\n",
        "  str_atgc = str_atgc.replace('C', 'g')\n",
        "  str_atgc = str_atgc.upper()\n",
        "  return str_atgc"
      ],
      "execution_count": null,
      "outputs": []
    },
    {
      "cell_type": "code",
      "metadata": {
        "id": "kYSNDXDdb6Lq",
        "colab": {
          "base_uri": "https://localhost:8080/",
          "height": 34
        },
        "outputId": "2b4057ef-9ff7-43e3-b05c-8922993e7ee1"
      },
      "source": [
        "print(atgc_bppair('AAGCCCCATGGTAA') == 'TTCGGGGTACCATT')"
      ],
      "execution_count": null,
      "outputs": [
        {
          "output_type": "stream",
          "text": [
            "True\n"
          ],
          "name": "stdout"
        }
      ]
    },
    {
      "cell_type": "code",
      "metadata": {
        "id": "VTCn9xPwb9eG"
      },
      "source": [
        "def swap_colon(str1):\n",
        "  str2 = str1.split(':')\n",
        "  res = str2[1] + ':' +str2[0]\n",
        "  return res"
      ],
      "execution_count": null,
      "outputs": []
    },
    {
      "cell_type": "code",
      "metadata": {
        "id": "auKZlbRXh89a",
        "colab": {
          "base_uri": "https://localhost:8080/",
          "height": 34
        },
        "outputId": "2b0ba601-db3b-4764-ba32-a068522dcf1a"
      },
      "source": [
        "print(swap_colon('hello:world') == 'world:hello')"
      ],
      "execution_count": null,
      "outputs": [
        {
          "output_type": "stream",
          "text": [
            "True\n"
          ],
          "name": "stdout"
        }
      ]
    },
    {
      "cell_type": "code",
      "metadata": {
        "id": "4oOqhvlRi9Pd"
      },
      "source": [
        "def atgc_count(str_atgc, str_bpname):\n",
        "  res = str_atgc.count(str_bpname)\n",
        "  return res"
      ],
      "execution_count": null,
      "outputs": []
    },
    {
      "cell_type": "code",
      "metadata": {
        "id": "T27DYnkWjn22",
        "colab": {
          "base_uri": "https://localhost:8080/",
          "height": 34
        },
        "outputId": "afd6fa07-331d-4010-cc56-64f145648286"
      },
      "source": [
        "print(atgc_count('AAGCCCCATGGTAA', 'A') == 5)"
      ],
      "execution_count": null,
      "outputs": [
        {
          "output_type": "stream",
          "text": [
            "True\n"
          ],
          "name": "stdout"
        }
      ]
    },
    {
      "cell_type": "code",
      "metadata": {
        "id": "Ay0xnl_KjzKw"
      },
      "source": [
        "def check_lower(str_engsentences):\n",
        "  if str_engsentences == str_engsentences.lower():\n",
        "    return True\n",
        "  else:\n",
        "    return False"
      ],
      "execution_count": null,
      "outputs": []
    },
    {
      "cell_type": "code",
      "metadata": {
        "id": "MEQecM8JmXk7",
        "colab": {
          "base_uri": "https://localhost:8080/",
          "height": 51
        },
        "outputId": "0c0a14e4-320e-4506-f792-f12e2681a1ff"
      },
      "source": [
        "print(check_lower('down down down') == True)\n",
        "print(check_lower('There were doors all round the hall, but they were all locked') == False)"
      ],
      "execution_count": null,
      "outputs": [
        {
          "output_type": "stream",
          "text": [
            "True\n",
            "True\n"
          ],
          "name": "stdout"
        }
      ]
    },
    {
      "cell_type": "code",
      "metadata": {
        "id": "xWIyTjf_mfCr"
      },
      "source": [
        "def remove_clause(str_engsentences):\n",
        "  i = str_engsentences.find(',')\n",
        "  res = str_engsentences[i+2:]\n",
        "  res = res.capitalize()\n",
        "  return res"
      ],
      "execution_count": null,
      "outputs": []
    },
    {
      "cell_type": "code",
      "metadata": {
        "id": "EC1eRXBfqsUt",
        "colab": {
          "base_uri": "https://localhost:8080/",
          "height": 34
        },
        "outputId": "e55ea4a7-71af-4b87-de1c-a70bd4fe4e0e"
      },
      "source": [
        "print(remove_clause(\"It's being seen, but you aren't observing.\") == \"But you aren't observing.\")"
      ],
      "execution_count": null,
      "outputs": [
        {
          "output_type": "stream",
          "text": [
            "True\n"
          ],
          "name": "stdout"
        }
      ]
    },
    {
      "cell_type": "markdown",
      "metadata": {
        "id": "vKlyOt2MNJH4"
      },
      "source": [
        "## 2-2"
      ]
    },
    {
      "cell_type": "code",
      "metadata": {
        "id": "7aUP6rMVNHWm"
      },
      "source": [
        "def remove_evenindex(ln):\n",
        "    res = ln[1::2]\n",
        "    return res"
      ],
      "execution_count": null,
      "outputs": []
    },
    {
      "cell_type": "code",
      "metadata": {
        "id": "6mJ_9LH6PBxL",
        "colab": {
          "base_uri": "https://localhost:8080/",
          "height": 53
        },
        "outputId": "ab0107f4-01d5-49e7-8fee-b408879bce2f"
      },
      "source": [
        "print(remove_evenindex(['a', 'b', 'c', 'd', 'e', 'f', 'g']) == ['b', 'd', 'f'] )\n",
        "print(remove_evenindex([1, 2, 3, 4, 5]) == [2, 4])"
      ],
      "execution_count": null,
      "outputs": [
        {
          "output_type": "stream",
          "text": [
            "True\n",
            "True\n"
          ],
          "name": "stdout"
        }
      ]
    },
    {
      "cell_type": "code",
      "metadata": {
        "id": "IH1f7bScY9UZ"
      },
      "source": [
        "def count_words(str_engsentence):\n",
        "    tmp = str_engsentence.split(' ')\n",
        "    return len(tmp)"
      ],
      "execution_count": null,
      "outputs": []
    },
    {
      "cell_type": "code",
      "metadata": {
        "id": "OgUFdM8gaTqm",
        "colab": {
          "base_uri": "https://localhost:8080/",
          "height": 35
        },
        "outputId": "32e5a65e-886a-425c-f98a-b2e6da85b54f"
      },
      "source": [
        "print(count_words('From Stettin in the Baltic to Trieste in the Adriatic an iron curtain has descended across the Continent.') == 18)"
      ],
      "execution_count": null,
      "outputs": [
        {
          "output_type": "stream",
          "text": [
            "True\n"
          ],
          "name": "stdout"
        }
      ]
    },
    {
      "cell_type": "code",
      "metadata": {
        "id": "Ggqb83_detCs"
      },
      "source": [
        "def reverse_totuple(ln):\n",
        "    ln.reverse()\n",
        "    return tuple(ln)"
      ],
      "execution_count": null,
      "outputs": []
    },
    {
      "cell_type": "code",
      "metadata": {
        "id": "tUZsoSKcfWVh",
        "colab": {
          "base_uri": "https://localhost:8080/",
          "height": 35
        },
        "outputId": "4a5d3ace-c9bc-4e32-da9c-2ed20ad23e82"
      },
      "source": [
        "print(reverse_totuple([1, 2, 3, 4, 5]) == (5, 4, 3, 2, 1))"
      ],
      "execution_count": null,
      "outputs": [
        {
          "output_type": "stream",
          "text": [
            "True\n"
          ],
          "name": "stdout"
        }
      ]
    },
    {
      "cell_type": "code",
      "metadata": {
        "id": "24bOxq-VivzZ"
      },
      "source": [
        "def sum_list(ln):\n",
        "    sum = 0\n",
        "    for v in ln:\n",
        "        sum += v\n",
        "    \n",
        "    return sum"
      ],
      "execution_count": null,
      "outputs": []
    },
    {
      "cell_type": "code",
      "metadata": {
        "id": "tLd0fkTOjLDj",
        "colab": {
          "base_uri": "https://localhost:8080/",
          "height": 53
        },
        "outputId": "10993239-546c-44e4-f17a-657401c72704"
      },
      "source": [
        "print(sum_list([10, 20, 30]) == 60)\n",
        "print(sum_list([-1, 2, -3, 4, -5]) == -3)"
      ],
      "execution_count": null,
      "outputs": [
        {
          "output_type": "stream",
          "text": [
            "True\n",
            "True\n"
          ],
          "name": "stdout"
        }
      ]
    },
    {
      "cell_type": "code",
      "metadata": {
        "id": "QPd-ngCVkq3_"
      },
      "source": [
        "def atgc_countlist(str_atgc):\n",
        "    list_count = [[0, 'A'], [0, 'T'], [0, 'G'], [0, 'C']]\n",
        "    for bq in str_atgc:\n",
        "        if bq == 'A':\n",
        "            list_count[0][0] += 1\n",
        "        elif bq == 'T':\n",
        "            list_count[1][0] += 1\n",
        "        elif bq == 'G':\n",
        "            list_count[2][0] += 1\n",
        "        else:\n",
        "            list_count[3][0] += 1\n",
        "\n",
        "    print(list_count)\n",
        "    return list_count"
      ],
      "execution_count": null,
      "outputs": []
    },
    {
      "cell_type": "code",
      "metadata": {
        "id": "Aj76SRsZk5qR",
        "colab": {
          "base_uri": "https://localhost:8080/",
          "height": 73
        },
        "outputId": "23a8a749-330c-42d5-fe4c-1e92bf03600c"
      },
      "source": [
        "print(sorted(atgc_countlist('AAGCCCCATGGTAA')) == sorted([[5, 'A'], [2, 'T'], [3, 'G'], [4, 'C']]))"
      ],
      "execution_count": null,
      "outputs": [
        {
          "output_type": "stream",
          "text": [
            "[[5, 'A'], [2, 'T'], [3, 'G'], [4, 'C']]\n",
            "True\n"
          ],
          "name": "stdout"
        }
      ]
    },
    {
      "cell_type": "markdown",
      "metadata": {
        "id": "9Ama5dc2zbC1"
      },
      "source": [
        "## 2-3"
      ]
    },
    {
      "cell_type": "code",
      "metadata": {
        "id": "E0iyluvVzdIJ"
      },
      "source": [
        "def exception3(x, y, z):\n",
        "    if x == y:\n",
        "        return z\n",
        "    elif x == z:\n",
        "        return y\n",
        "    elif y == z:\n",
        "        return x"
      ],
      "execution_count": null,
      "outputs": []
    },
    {
      "cell_type": "code",
      "metadata": {
        "id": "3_66ltelzzfi",
        "colab": {
          "base_uri": "https://localhost:8080/",
          "height": 69
        },
        "outputId": "3c0b7a5b-004e-48e7-e707-7c4b1ff0514e"
      },
      "source": [
        "print(exception3(1,2,2))\n",
        "print(exception3(4,2,4))\n",
        "print(exception3(9,3,9))"
      ],
      "execution_count": null,
      "outputs": [
        {
          "output_type": "stream",
          "text": [
            "1\n",
            "2\n",
            "3\n"
          ],
          "name": "stdout"
        }
      ]
    },
    {
      "cell_type": "code",
      "metadata": {
        "id": "TStd1sOS0DUb"
      },
      "source": [
        "def exception9(a):\n",
        "    x = a[0] + a[1] + a[2]\n",
        "    y = a[3] + a[4] + a[5]\n",
        "    z = a[6] + a[7] + a[8]\n",
        "    if x == y:\n",
        "        return exception3(a[6], a[7], a[8])\n",
        "    elif x == z:\n",
        "        return exception3(a[3], a[4], a[5])\n",
        "    else:\n",
        "        return exception3(a[0], a[1], a[2])"
      ],
      "execution_count": null,
      "outputs": []
    },
    {
      "cell_type": "code",
      "metadata": {
        "id": "KHzVMe4c2DPE",
        "colab": {
          "base_uri": "https://localhost:8080/",
          "height": 69
        },
        "outputId": "14c20d62-e6d3-42fa-cd26-e2bc8c3b5336"
      },
      "source": [
        "print(exception9([1,2,2,2,2,2,2,2,2]))\n",
        "print(exception9([4,4,4,4,4,2,4,4,4]))\n",
        "print(exception9([9,9,9,9,9,9,9,9,3]))"
      ],
      "execution_count": null,
      "outputs": [
        {
          "output_type": "stream",
          "text": [
            "1\n",
            "2\n",
            "3\n"
          ],
          "name": "stdout"
        }
      ]
    },
    {
      "cell_type": "code",
      "metadata": {
        "id": "FL5J8-aA2F48",
        "colab": {
          "base_uri": "https://localhost:8080/",
          "height": 35
        },
        "outputId": "dad83542-6fd0-439e-a35d-908b82a4b867"
      },
      "source": [
        "x = -1\n",
        "if x < 3 and x >= 2:\n",
        "    print('x is larger than or equal to 2, and less than 3')\n",
        "elif x < 2 and x >= 1:\n",
        "    print('x is larger than or equal to 1, and less than 2')\n",
        "elif x < 1:\n",
        "    print('x is less than 1')\n",
        "else:\n",
        "    print('x is larger or equal to 3')"
      ],
      "execution_count": null,
      "outputs": [
        {
          "output_type": "stream",
          "text": [
            "x is less than 1\n"
          ],
          "name": "stdout"
        }
      ]
    },
    {
      "cell_type": "markdown",
      "metadata": {
        "id": "0Ehtdpme3QBu"
      },
      "source": [
        "## 3-1"
      ]
    },
    {
      "cell_type": "code",
      "metadata": {
        "id": "a22K59oX3hw1"
      },
      "source": [
        "def reverse_lookup(list1):\n",
        "    res = {}\n",
        "    for v in list1:\n",
        "        if v == 'apple':\n",
        "            res[v] = 0\n",
        "        elif v == 'orange':\n",
        "            res[v] = 2\n",
        "        elif v == 'pen':\n",
        "            res[v] = 1\n",
        "    \n",
        "    return res"
      ],
      "execution_count": null,
      "outputs": []
    },
    {
      "cell_type": "code",
      "metadata": {
        "id": "bHa-G4MS8jvL",
        "colab": {
          "base_uri": "https://localhost:8080/",
          "height": 35
        },
        "outputId": "f0eb7fb1-1ce9-4752-ed73-bf92045ecba6"
      },
      "source": [
        "print(reverse_lookup(['apple', 'pen', 'orange']) == {'apple': 0, 'orange': 2, 'pen': 1})"
      ],
      "execution_count": null,
      "outputs": [
        {
          "output_type": "stream",
          "text": [
            "True\n"
          ],
          "name": "stdout"
        }
      ]
    },
    {
      "cell_type": "code",
      "metadata": {
        "id": "CHbo1sFN9QBV"
      },
      "source": [
        "def handle_collision(dic1, str1):\n",
        "    n = len(str1)\n",
        "    if n in dic1:\n",
        "        list_tmp = dic1[n]\n",
        "        list_tmp.append(str1)\n",
        "        dic1[n] = list_tmp\n",
        "    else:\n",
        "        dic1[n] = str1\n",
        "\n",
        "    return dic1"
      ],
      "execution_count": null,
      "outputs": []
    },
    {
      "cell_type": "code",
      "metadata": {
        "id": "GYL5xHB6_PwS",
        "colab": {
          "base_uri": "https://localhost:8080/",
          "height": 35
        },
        "outputId": "12d8afaa-5243-4b5b-e44f-bb07dd341aff"
      },
      "source": [
        "dic1_orig = {3: ['ham', 'egg'], 6: ['coffee', 'brandy'], 9: ['port wine'], 15: ['curried chicken']}\n",
        "dic1_result = {3: ['ham', 'egg', 'tea'], 6: ['coffee', 'brandy'], 9: ['port wine'], 15: ['curried chicken']}\n",
        "handle_collision(dic1_orig, 'tea')\n",
        "print(dic1_orig == dic1_result)"
      ],
      "execution_count": null,
      "outputs": [
        {
          "output_type": "stream",
          "text": [
            "True\n"
          ],
          "name": "stdout"
        }
      ]
    },
    {
      "cell_type": "markdown",
      "metadata": {
        "id": "4-5S53WI_n2q"
      },
      "source": [
        "## 3-2"
      ]
    },
    {
      "cell_type": "code",
      "metadata": {
        "id": "2TkVAUiG_qC4"
      },
      "source": [
        "def reverse_lookup2(dic1):\n",
        "    res = {}\n",
        "    for v, w in dic1.items():\n",
        "        res[w] = v\n",
        "\n",
        "    return res"
      ],
      "execution_count": null,
      "outputs": []
    },
    {
      "cell_type": "code",
      "metadata": {
        "id": "VjJfe3YgAl8B",
        "colab": {
          "base_uri": "https://localhost:8080/",
          "height": 35
        },
        "outputId": "7faf51a5-19c8-4781-fec4-9c5dec932ef5"
      },
      "source": [
        "print(reverse_lookup2({'apple': 3, 'pen': 5, 'orange': 7}) == {3: 'apple', 5: 'pen', 7: 'orange'})"
      ],
      "execution_count": null,
      "outputs": [
        {
          "output_type": "stream",
          "text": [
            "True\n"
          ],
          "name": "stdout"
        }
      ]
    },
    {
      "cell_type": "code",
      "metadata": {
        "id": "O0-kZ7U-A2IC"
      },
      "source": [
        "def sum_n(x, y):\n",
        "    sum = 0\n",
        "    for i in range(x, y+1):\n",
        "        sum += i\n",
        "\n",
        "    return sum"
      ],
      "execution_count": null,
      "outputs": []
    },
    {
      "cell_type": "code",
      "metadata": {
        "id": "LxIDK8-pBDWC",
        "colab": {
          "base_uri": "https://localhost:8080/",
          "height": 35
        },
        "outputId": "2b70552e-4273-47d4-b3bd-a7aac6995a14"
      },
      "source": [
        "print(sum_n(1, 3) == 6)"
      ],
      "execution_count": null,
      "outputs": [
        {
          "output_type": "stream",
          "text": [
            "True\n"
          ],
          "name": "stdout"
        }
      ]
    },
    {
      "cell_type": "code",
      "metadata": {
        "id": "2GvUs3tvBQEY"
      },
      "source": [
        "def construct_list(int_size):\n",
        "    res = []\n",
        "    for i in range(int_size):\n",
        "        res.append(i)\n",
        "\n",
        "    return res"
      ],
      "execution_count": null,
      "outputs": []
    },
    {
      "cell_type": "code",
      "metadata": {
        "id": "CSV-WwijBhcg",
        "colab": {
          "base_uri": "https://localhost:8080/",
          "height": 35
        },
        "outputId": "5ae23bb8-17e3-4310-aed3-f953feaa9c44"
      },
      "source": [
        "print(construct_list(10) == [0, 1, 2, 3, 4, 5, 6, 7, 8, 9])"
      ],
      "execution_count": null,
      "outputs": [
        {
          "output_type": "stream",
          "text": [
            "True\n"
          ],
          "name": "stdout"
        }
      ]
    },
    {
      "cell_type": "code",
      "metadata": {
        "id": "kieiHR6_BrwC"
      },
      "source": [
        "def sum_lists(list1):\n",
        "    sum = 0\n",
        "    for i in list1:\n",
        "        for j in i:\n",
        "            sum += j\n",
        "\n",
        "    return sum"
      ],
      "execution_count": null,
      "outputs": []
    },
    {
      "cell_type": "code",
      "metadata": {
        "id": "DrGfUSwUCDDJ",
        "colab": {
          "base_uri": "https://localhost:8080/",
          "height": 35
        },
        "outputId": "ec9fa859-b177-4ae4-ba82-981e808489b0"
      },
      "source": [
        "print(sum_lists([[20, 5], [6, 16, 14, 5], [16, 8, 16, 17, 14], [1], [5, 3, 5, 7]]) == 158)"
      ],
      "execution_count": null,
      "outputs": [
        {
          "output_type": "stream",
          "text": [
            "True\n"
          ],
          "name": "stdout"
        }
      ]
    },
    {
      "cell_type": "code",
      "metadata": {
        "id": "pEKBJiXtCDCA"
      },
      "source": [
        "def sum_matrix(list1, list2):\n",
        "    list3 = []\n",
        "    for i in range(3):\n",
        "        lst = []\n",
        "        for j in range(3):\n",
        "            lst.append(list1[i][j] + list2[i][j])\n",
        "        list3.append(lst)\n",
        "\n",
        "    return list3"
      ],
      "execution_count": null,
      "outputs": []
    },
    {
      "cell_type": "code",
      "metadata": {
        "id": "0_fcQBCPDe6F",
        "colab": {
          "base_uri": "https://localhost:8080/",
          "height": 35
        },
        "outputId": "df096dd5-142c-4040-862b-674baeb21e55"
      },
      "source": [
        "print(sum_matrix([[1,2,3],[4,5,6],[7,8,9]], [[1,4,7],[2,5,8],[3,6,9]]) == [[2, 6, 10], [6, 10, 14], [10, 14, 18]])"
      ],
      "execution_count": null,
      "outputs": [
        {
          "output_type": "stream",
          "text": [
            "True\n"
          ],
          "name": "stdout"
        }
      ]
    },
    {
      "cell_type": "code",
      "metadata": {
        "id": "2vuP5kUqEIEo"
      },
      "source": [
        "def simple_match(str1, str2):\n",
        "    res = -1\n",
        "    for i in range(len(str1)):\n",
        "        if str1[i] == str2[0]:\n",
        "            tmp = str1[i:i+len(str2)]\n",
        "            if tmp == str2:\n",
        "                res = i\n",
        "\n",
        "    return res"
      ],
      "execution_count": null,
      "outputs": []
    },
    {
      "cell_type": "code",
      "metadata": {
        "id": "jA2cXbA5E18y",
        "colab": {
          "base_uri": "https://localhost:8080/",
          "height": 86
        },
        "outputId": "40d68444-2a91-4eab-843a-3dab05cd935e"
      },
      "source": [
        "print(simple_match('location', 'cat') == 2)\n",
        "print(simple_match('soccer', 'cat') == -1)\n",
        "print(simple_match('category', 'cat') == 0)\n",
        "print(simple_match('carpet', 'cat') == -1)"
      ],
      "execution_count": null,
      "outputs": [
        {
          "output_type": "stream",
          "text": [
            "True\n",
            "True\n",
            "True\n",
            "True\n"
          ],
          "name": "stdout"
        }
      ]
    },
    {
      "cell_type": "code",
      "metadata": {
        "id": "iZQWQgL4Uzqe",
        "colab": {
          "base_uri": "https://localhost:8080/",
          "height": 190
        },
        "outputId": "85eaa6fb-589c-4bb0-c3db-3eabd3ed7389"
      },
      "source": [
        "from time import sleep\n",
        "i = 0\n",
        "while i < 10:\n",
        "    print('Yeah!')\n",
        "    sleep(1)\n",
        "    i += 1"
      ],
      "execution_count": null,
      "outputs": [
        {
          "output_type": "stream",
          "text": [
            "Yeah!\n",
            "Yeah!\n",
            "Yeah!\n",
            "Yeah!\n",
            "Yeah!\n",
            "Yeah!\n",
            "Yeah!\n",
            "Yeah!\n",
            "Yeah!\n",
            "Yeah!\n"
          ],
          "name": "stdout"
        }
      ]
    },
    {
      "cell_type": "code",
      "metadata": {
        "id": "r8-zDDZCVSor"
      },
      "source": [
        "def collect_engwords(str_engsentence):\n",
        "    s = str_engsentence.replace(',', '')\n",
        "    s = s.replace('.', '')\n",
        "    l = s.split(' ')\n",
        "    res = []\n",
        "    for v in l:\n",
        "        if len(v) >= 3:\n",
        "            res.append(v)\n",
        "\n",
        "    return res"
      ],
      "execution_count": null,
      "outputs": []
    },
    {
      "cell_type": "code",
      "metadata": {
        "id": "9io2zn3bV4pq",
        "colab": {
          "base_uri": "https://localhost:8080/",
          "height": 35
        },
        "outputId": "cc0eff6e-c8ae-40e9-96ca-973ed8321cc6"
      },
      "source": [
        "print(collect_engwords('Unfortunately no, it requires something with a little more kick, plutonium.') == ['Unfortunately', 'requires',\n",
        "'something', 'with', 'little', 'more', 'kick', 'plutonium'])"
      ],
      "execution_count": null,
      "outputs": [
        {
          "output_type": "stream",
          "text": [
            "True\n"
          ],
          "name": "stdout"
        }
      ]
    },
    {
      "cell_type": "code",
      "metadata": {
        "id": "osf3PAGyWaOf"
      },
      "source": [
        "def swap_lists(ln1, ln2):\n",
        "    for i in range(len(ln1)):\n",
        "        if i % 2:\n",
        "            a, b = ln1[i], ln2[i]\n",
        "            ln1[i], ln2[i] = b, a\n",
        "\n",
        "    return (ln1, ln2)"
      ],
      "execution_count": null,
      "outputs": []
    },
    {
      "cell_type": "code",
      "metadata": {
        "id": "lDg-v7THXLDb",
        "colab": {
          "base_uri": "https://localhost:8080/",
          "height": 35
        },
        "outputId": "82f79cfd-f31d-4ee5-8a93-2887ac61cfaf"
      },
      "source": [
        "print(swap_lists([1, 2, 3, 4, 5], ['a', 'b', 'c', 'd', 'e']) == ([1, 'b', 3, 'd', 5], ['a', 2, 'c', 4, 'e']))"
      ],
      "execution_count": null,
      "outputs": [
        {
          "output_type": "stream",
          "text": [
            "True\n"
          ],
          "name": "stdout"
        }
      ]
    },
    {
      "cell_type": "code",
      "metadata": {
        "id": "86sF4QZvXiwo"
      },
      "source": [
        "def count_capitalletters(str1):\n",
        "    res = 0\n",
        "    for c in str1:\n",
        "        if 'A' <= c and c <= 'Z':\n",
        "            res += 1\n",
        "    return res"
      ],
      "execution_count": null,
      "outputs": []
    },
    {
      "cell_type": "code",
      "metadata": {
        "id": "iKh0PweYYPj-",
        "colab": {
          "base_uri": "https://localhost:8080/",
          "height": 35
        },
        "outputId": "b14f1d45-5393-407c-eeef-5be35f674672"
      },
      "source": [
        "print(count_capitalletters('Que Será, Será') == 3)"
      ],
      "execution_count": null,
      "outputs": [
        {
          "output_type": "stream",
          "text": [
            "True\n"
          ],
          "name": "stdout"
        }
      ]
    },
    {
      "cell_type": "code",
      "metadata": {
        "id": "UOeOOhEqYX7e"
      },
      "source": [
        "def identify_codons(str_augc):\n",
        "    res = []\n",
        "    s = ''\n",
        "    for i in str_augc:\n",
        "        s += i\n",
        "        if len(s) == 3:\n",
        "            res.append(s)\n",
        "            s = ''\n",
        "    return res"
      ],
      "execution_count": null,
      "outputs": []
    },
    {
      "cell_type": "code",
      "metadata": {
        "id": "QEOXVkoxZZcx",
        "colab": {
          "base_uri": "https://localhost:8080/",
          "height": 35
        },
        "outputId": "35d72dab-c932-41ff-ce3b-b7db08b2f47e"
      },
      "source": [
        "print(identify_codons('CCCCCGGCACCT') == ['CCC', 'CCG', 'GCA', 'CCT'])"
      ],
      "execution_count": null,
      "outputs": [
        {
          "output_type": "stream",
          "text": [
            "True\n"
          ],
          "name": "stdout"
        }
      ]
    },
    {
      "cell_type": "code",
      "metadata": {
        "id": "YGZkZdDvm70M"
      },
      "source": [
        "def add_commas(int1):\n",
        "    int_s = str(int1)\n",
        "    s = ''\n",
        "    res = ''\n",
        "    if len(int_s) == 3:\n",
        "        return int_s\n",
        "    for c in int_s[::-1]:\n",
        "        s += c\n",
        "        if len(s) == 3:\n",
        "            res += s + ','\n",
        "            s = ''\n",
        "    res += s\n",
        "    res = res[::-1]\n",
        "    return res"
      ],
      "execution_count": null,
      "outputs": []
    },
    {
      "cell_type": "code",
      "metadata": {
        "id": "vUMWpwtLocSY",
        "colab": {
          "base_uri": "https://localhost:8080/",
          "height": 90
        },
        "outputId": "9233ba4f-0919-4cfd-9981-9ab19bbd41cc"
      },
      "source": [
        "print(add_commas(14980) == '14,980')\n",
        "print(add_commas(3980) == '3,980')\n",
        "print(add_commas(298) == '298')\n",
        "print(add_commas(1000000) == '1,000,000')"
      ],
      "execution_count": null,
      "outputs": [
        {
          "output_type": "stream",
          "text": [
            "True\n",
            "True\n",
            "True\n",
            "True\n"
          ],
          "name": "stdout"
        }
      ]
    },
    {
      "cell_type": "code",
      "metadata": {
        "id": "H-fh0jXxrjVj"
      },
      "source": [
        "def sum_strings(list1):\n",
        "    if len(list1) == 1:\n",
        "        return list1[0]\n",
        "\n",
        "    res = ''\n",
        "    for v in list1[0:-2]:\n",
        "        res += str(v) + ', '\n",
        "\n",
        "    res += str(list1[-2]) + ' and ' + str(list1[-1])\n",
        "    return res"
      ],
      "execution_count": null,
      "outputs": []
    },
    {
      "cell_type": "code",
      "metadata": {
        "id": "gxSYARBIsFMx",
        "colab": {
          "base_uri": "https://localhost:8080/",
          "height": 108
        },
        "outputId": "9a02a674-e111-4f2d-935e-91d00d89a792"
      },
      "source": [
        "print(sum_strings(['a', 'b', 'c', 'd']) == 'a, b, c and d')\n",
        "print(sum_strings(['a']) == 'a')\n",
        "print(sum_strings([1, 2, 3]) == '1, 2 and 3')"
      ],
      "execution_count": null,
      "outputs": [
        {
          "output_type": "stream",
          "text": [
            "a, b, c and d\n",
            "True\n",
            "True\n",
            "1, 2 and 3\n",
            "True\n"
          ],
          "name": "stdout"
        }
      ]
    },
    {
      "cell_type": "code",
      "metadata": {
        "id": "eF4lKKERudHx"
      },
      "source": [
        "def handle_collision2(dic1, str1):\n",
        "    n = len(str1)\n",
        "    if n in dic1:\n",
        "        x = []\n",
        "        for i in range(n+1,11):\n",
        "            x.append(i)\n",
        "        for i in range(1, n+1):\n",
        "            x.append(i)\n",
        "\n",
        "        for i in x:\n",
        "            if i not in dic1:\n",
        "                dic1[i] = str1\n",
        "                break\n",
        "    else:\n",
        "        dic1[n] = str1\n",
        "    return dic1"
      ],
      "execution_count": null,
      "outputs": []
    },
    {
      "cell_type": "code",
      "metadata": {
        "id": "K4uTqnSpu70T",
        "colab": {
          "base_uri": "https://localhost:8080/",
          "height": 72
        },
        "outputId": "49e1e30b-3fbd-417e-db5c-adfb9ced5f6a"
      },
      "source": [
        "dic1_orig = {6: 'Styles', 4: 'Link', 7: 'Ackroyd'}\n",
        "handle_collision2(dic1_orig, 'Big Four')\n",
        "print(dic1_orig == {6: 'Styles', 4: 'Link', 7: 'Ackroyd', 8: 'Big Four'})\n",
        "dic1_orig = {6: 'Styles', 4: 'Link', 7: 'Ackroyd', 8: 'Big Four', 10: 'Blue Train', 9: 'End House'}\n",
        "handle_collision2(dic1_orig, 'Edgware')\n",
        "print(dic1_orig == {6: 'Styles', 4: 'Link', 7: 'Ackroyd', 8: 'Big Four', 10: 'Blue Train', 9: 'End House', 1: 'Edgware'})\n",
        "dic1_orig = {6: 'Styles', 4: 'Link', 7: 'Ackroyd', 8: 'Big Four', 10: 'Blue Train', 9: 'End House', 1: 'Edgware', 2: 'Orient', 3: 'Three Act', 5: 'Clouds'}\n",
        "handle_collision2(dic1_orig, 'ABC')\n",
        "print(dic1_orig == {6: 'Styles', 4: 'Link', 7: 'Ackroyd', 8: 'Big Four', 10: 'Blue Train', 9: 'End House', 1: 'Edgware', 2: 'Orient', 3: 'Three Act', 5: 'Clouds'})"
      ],
      "execution_count": null,
      "outputs": [
        {
          "output_type": "stream",
          "text": [
            "True\n",
            "True\n",
            "True\n"
          ],
          "name": "stdout"
        }
      ]
    },
    {
      "cell_type": "code",
      "metadata": {
        "id": "srfLPtcK0Mjl"
      },
      "source": [
        "def handle_collision3(list1):\n",
        "    res = {}\n",
        "    for v in list1:\n",
        "        if v[0] not in res:\n",
        "            res[v[0]] = v[1]\n",
        "\n",
        "    return res"
      ],
      "execution_count": null,
      "outputs": []
    },
    {
      "cell_type": "code",
      "metadata": {
        "id": "4NcHrvv90OCQ",
        "colab": {
          "base_uri": "https://localhost:8080/",
          "height": 35
        },
        "outputId": "0615a85c-4f57-43f9-c26b-0300c67c8657"
      },
      "source": [
        "print(handle_collision3([[3, 'Richard III'], [1, 'Othello'], [2, 'Tempest'], [3, 'King John'], [4, 'Midsummer'], [1, 'Lear']]) == {1: 'Othello', 2: 'Tempest', 3: 'Richard III', 4: 'Midsummer'})"
      ],
      "execution_count": null,
      "outputs": [
        {
          "output_type": "stream",
          "text": [
            "True\n"
          ],
          "name": "stdout"
        }
      ]
    },
    {
      "cell_type": "markdown",
      "metadata": {
        "id": "5KHuJfaBspv0"
      },
      "source": [
        "## 4-2"
      ]
    },
    {
      "cell_type": "code",
      "metadata": {
        "id": "p0efAlHtukmH"
      },
      "source": [
        "def but_first(ls):\n",
        "    it = iter(ls)\n",
        "    next(it)\n",
        "\n",
        "    return it"
      ],
      "execution_count": null,
      "outputs": []
    },
    {
      "cell_type": "code",
      "metadata": {
        "id": "1Z-zXGxkvGU5",
        "colab": {
          "base_uri": "https://localhost:8080/",
          "height": 54
        },
        "outputId": "1457723f-d8ae-4bdf-e0fc-3e6728860651"
      },
      "source": [
        "it = but_first([0,2,4,6,8])\n",
        "print(type(it) == type(iter([])))\n",
        "print(list(it) == [2,4,6,8])"
      ],
      "execution_count": null,
      "outputs": [
        {
          "output_type": "stream",
          "text": [
            "True\n",
            "True\n"
          ],
          "name": "stdout"
        }
      ]
    },
    {
      "cell_type": "markdown",
      "metadata": {
        "id": "QNemkR-uxalN"
      },
      "source": [
        "## 5-1"
      ]
    },
    {
      "cell_type": "code",
      "metadata": {
        "id": "-UcrkJbgxdLY",
        "colab": {
          "base_uri": "https://localhost:8080/",
          "height": 54
        },
        "outputId": "f534de73-58db-4265-ca28-0ce11684f0e9"
      },
      "source": [
        "from math import *\n",
        "print(sqrt(2))\n",
        "print(sin(pi))"
      ],
      "execution_count": null,
      "outputs": [
        {
          "output_type": "stream",
          "text": [
            "1.4142135623730951\n",
            "1.2246467991473532e-16\n"
          ],
          "name": "stdout"
        }
      ]
    },
    {
      "cell_type": "markdown",
      "metadata": {
        "id": "igOvPXMMy5fN"
      },
      "source": [
        "## 5-2"
      ]
    },
    {
      "cell_type": "code",
      "metadata": {
        "id": "57Q1Z3eXyw4j",
        "colab": {
          "base_uri": "https://localhost:8080/",
          "height": 35
        },
        "outputId": "4df6a656-73f9-4e70-c610-8219f1a1ca5b"
      },
      "source": [
        "import factorial\n",
        "\n",
        "factorial.fact(6)"
      ],
      "execution_count": null,
      "outputs": [
        {
          "output_type": "execute_result",
          "data": {
            "text/plain": [
              "720"
            ]
          },
          "metadata": {
            "tags": []
          },
          "execution_count": 14
        }
      ]
    },
    {
      "cell_type": "markdown",
      "metadata": {
        "id": "0UTvEKCDzXTy"
      },
      "source": [
        "## 5-3"
      ]
    },
    {
      "cell_type": "code",
      "metadata": {
        "id": "mQh0dHOJzZvY"
      },
      "source": [
        "import numpy as np"
      ],
      "execution_count": null,
      "outputs": []
    },
    {
      "cell_type": "code",
      "metadata": {
        "id": "cmH_K8nuy7V9"
      },
      "source": [
        "def arange_square_matrix(n):\n",
        "    a = np.arange(0, 3)\n",
        "    b = np.arange(1, 4)\n",
        "    c = np.arange(2, 5)\n",
        "\n",
        "    return [a, b, c]"
      ],
      "execution_count": null,
      "outputs": []
    },
    {
      "cell_type": "code",
      "metadata": {
        "id": "g9MgMIQp0drL",
        "colab": {
          "base_uri": "https://localhost:8080/",
          "height": 35
        },
        "outputId": "27c98fa5-5aaa-4e04-b1e3-51504b9fbb76"
      },
      "source": [
        "print(all(map(all,(arange_square_matrix(3) == np.array([[0,1,2],[1,2,3],[2,3,4]])))))"
      ],
      "execution_count": null,
      "outputs": [
        {
          "output_type": "stream",
          "text": [
            "True\n"
          ],
          "name": "stdout"
        }
      ]
    },
    {
      "cell_type": "markdown",
      "metadata": {
        "id": "k0VdlA7J1WjI"
      },
      "source": [
        "## 6-1"
      ]
    },
    {
      "cell_type": "code",
      "metadata": {
        "id": "hBNSkMSD1X6Y",
        "colab": {
          "base_uri": "https://localhost:8080/",
          "height": 35
        },
        "outputId": "4e0d03c1-9428-429a-fc40-4879461e14d2"
      },
      "source": [
        "strings = ['The', 'quick', 'brown']\n",
        "[len(i) for i in strings]"
      ],
      "execution_count": null,
      "outputs": [
        {
          "output_type": "execute_result",
          "data": {
            "text/plain": [
              "[3, 5, 5]"
            ]
          },
          "metadata": {
            "tags": []
          },
          "execution_count": 19
        }
      ]
    },
    {
      "cell_type": "code",
      "metadata": {
        "id": "odzA9bDV2Bsw",
        "colab": {
          "base_uri": "https://localhost:8080/",
          "height": 35
        },
        "outputId": "8f4db099-a99d-4864-8c9d-5cb73ee1676c"
      },
      "source": [
        "str1 = '123,45,-3'\n",
        "str1 = str1.split(',')\n",
        "[int(i) for i in str1]"
      ],
      "execution_count": null,
      "outputs": [
        {
          "output_type": "execute_result",
          "data": {
            "text/plain": [
              "[123, 45, -3]"
            ]
          },
          "metadata": {
            "tags": []
          },
          "execution_count": 23
        }
      ]
    },
    {
      "cell_type": "code",
      "metadata": {
        "id": "mdcFg4bd2YUF"
      },
      "source": [
        "def var(lst):\n",
        "    ave = sum(lst) / len(lst)\n",
        "    res = sum([(ave - i) * (ave - i) for i in lst]) / len(lst)\n",
        "    return res"
      ],
      "execution_count": null,
      "outputs": []
    },
    {
      "cell_type": "code",
      "metadata": {
        "id": "n2uva13W3PMI",
        "colab": {
          "base_uri": "https://localhost:8080/",
          "height": 35
        },
        "outputId": "e39c5694-5239-4552-b144-94982f4d006c"
      },
      "source": [
        "print(var([3,4,1,2]) == 1.25)"
      ],
      "execution_count": null,
      "outputs": [
        {
          "output_type": "stream",
          "text": [
            "True\n"
          ],
          "name": "stdout"
        }
      ]
    },
    {
      "cell_type": "code",
      "metadata": {
        "id": "Q_h0XDpF3rt4"
      },
      "source": [
        "def sum_lists(list1):\n",
        "    res = sum([sum(i) for i in list1])\n",
        "\n",
        "    return res"
      ],
      "execution_count": null,
      "outputs": []
    },
    {
      "cell_type": "code",
      "metadata": {
        "id": "nuZEdGZ54JNc",
        "colab": {
          "base_uri": "https://localhost:8080/",
          "height": 35
        },
        "outputId": "fb69de7b-c043-41f7-b57d-01f7322d87f5"
      },
      "source": [
        "print(sum_lists([[20, 5], [6, 16, 14, 5], [16, 8, 16, 17, 14], [1], [5, 3, 5, 7]]) == 158)"
      ],
      "execution_count": null,
      "outputs": [
        {
          "output_type": "stream",
          "text": [
            "True\n"
          ],
          "name": "stdout"
        }
      ]
    },
    {
      "cell_type": "code",
      "metadata": {
        "id": "3LsH7Yz84bJ7"
      },
      "source": [
        "def sum_matrix(list1, list2):\n",
        "    list3 = [list1[i][j] + list2[i][j] for i in range(3) for j in range(3)]\n",
        "    return list3"
      ],
      "execution_count": null,
      "outputs": []
    },
    {
      "cell_type": "code",
      "metadata": {
        "id": "XqWp1Mqr5lBm",
        "colab": {
          "base_uri": "https://localhost:8080/",
          "height": 35
        },
        "outputId": "c45ba2fa-377d-47e7-8782-968cfaa6465e"
      },
      "source": [
        "print(sum_lists([[20, 5], [6, 16, 14, 5], [16, 8, 16, 17, 14], [1], [5, 3, 5, 7]]) == 158)"
      ],
      "execution_count": null,
      "outputs": [
        {
          "output_type": "stream",
          "text": [
            "True\n"
          ],
          "name": "stdout"
        }
      ]
    },
    {
      "cell_type": "markdown",
      "metadata": {
        "id": "iM5u5EBv7V73"
      },
      "source": [
        "## 6-2"
      ]
    },
    {
      "cell_type": "code",
      "metadata": {
        "id": "5LZMk9g-7XWS"
      },
      "source": [
        "def max_value_key(d):\n",
        "    return max(d, key=lambda k: d[k])"
      ],
      "execution_count": null,
      "outputs": []
    },
    {
      "cell_type": "code",
      "metadata": {
        "id": "6JxGr_vk7-Mm",
        "colab": {
          "base_uri": "https://localhost:8080/",
          "height": 35
        },
        "outputId": "88ecbdd7-547a-4566-ee11-727fa62b2d25"
      },
      "source": [
        "print(max_value_key({3:10, 5:2, 9:1}) == 3)"
      ],
      "execution_count": null,
      "outputs": [
        {
          "output_type": "stream",
          "text": [
            "True\n"
          ],
          "name": "stdout"
        }
      ]
    },
    {
      "cell_type": "code",
      "metadata": {
        "id": "WC9_4Ikd8io7"
      },
      "source": [
        "def max_abs(ln):\n",
        "    return max(map(abs, ln))"
      ],
      "execution_count": null,
      "outputs": []
    },
    {
      "cell_type": "code",
      "metadata": {
        "id": "4WyGWadr8let",
        "colab": {
          "base_uri": "https://localhost:8080/",
          "height": 35
        },
        "outputId": "843c312a-ab16-4a08-9c8e-03183126d058"
      },
      "source": [
        "print(max_abs([3,-8,1,0,7,-5]) == 8)"
      ],
      "execution_count": null,
      "outputs": [
        {
          "output_type": "stream",
          "text": [
            "True\n"
          ],
          "name": "stdout"
        }
      ]
    },
    {
      "cell_type": "code",
      "metadata": {
        "id": "U4DYgnfE-uTi"
      },
      "source": [
        "def number_of_big_numbers(ln, n):\n",
        "    l = list(filter(lambda x: x < n, ln))\n",
        "    return len(l)"
      ],
      "execution_count": null,
      "outputs": []
    },
    {
      "cell_type": "code",
      "metadata": {
        "id": "B0squywY_iuX",
        "colab": {
          "base_uri": "https://localhost:8080/",
          "height": 35
        },
        "outputId": "063d7a6a-08c7-479d-d9a0-e4e212c96b4c"
      },
      "source": [
        "print(number_of_big_numbers([10, 0, 7, 1, 5, 2, 9], 5) == 3)"
      ],
      "execution_count": null,
      "outputs": [
        {
          "output_type": "stream",
          "text": [
            "True\n"
          ],
          "name": "stdout"
        }
      ]
    },
    {
      "cell_type": "markdown",
      "metadata": {
        "id": "ZdsUS0TTA83n"
      },
      "source": [
        "## 6-3"
      ]
    },
    {
      "cell_type": "code",
      "metadata": {
        "id": "Ezq6Es6RCcBs"
      },
      "source": [
        "class HelloForEver:\n",
        "    def readline(self):\n",
        "        return 'Hello.\\n'"
      ],
      "execution_count": null,
      "outputs": []
    },
    {
      "cell_type": "code",
      "metadata": {
        "id": "Q-fcIoNhCWRb"
      },
      "source": [
        "class HelloFile(HelloForEver):\n",
        "    def __init__(self, n):\n",
        "        self.n = n\n",
        "    def readline(self):\n",
        "        if self.n == 0:\n",
        "            return ''\n",
        "        self.n = self.n - 1\n",
        "        return super().readline()"
      ],
      "execution_count": null,
      "outputs": []
    },
    {
      "cell_type": "code",
      "metadata": {
        "id": "KYWRYlwlCKkd"
      },
      "source": [
        "class HelloFileIterator(HelloFile):\n",
        "    def __iter__(self):\n",
        "        return self\n",
        "    def __next__(self):\n",
        "        line = self.readline()\n",
        "        if line == '':\n",
        "            raise StopIteration\n",
        "        return line"
      ],
      "execution_count": null,
      "outputs": []
    },
    {
      "cell_type": "code",
      "metadata": {
        "id": "GM5a1f60A7_j"
      },
      "source": [
        "class StringFileIterator(HelloFileIterator):\n",
        "    def __init__(self, s, n):\n",
        "        self.s = s\n",
        "        self.n = n\n",
        "    def readline(self):\n",
        "        if self.n == 0:\n",
        "            return ''\n",
        "        self.n = self.n - 1\n",
        "        return self.s"
      ],
      "execution_count": null,
      "outputs": []
    },
    {
      "cell_type": "code",
      "metadata": {
        "id": "wnfaj8bGA_BR",
        "colab": {
          "base_uri": "https://localhost:8080/",
          "height": 35
        },
        "outputId": "3ec03c13-7f1c-4094-d76a-ec82ab0a7aea"
      },
      "source": [
        "f = StringFileIterator('abc', 3)\n",
        "print(list(f) == ['abc','abc','abc'])"
      ],
      "execution_count": null,
      "outputs": [
        {
          "output_type": "stream",
          "text": [
            "True\n"
          ],
          "name": "stdout"
        }
      ]
    },
    {
      "cell_type": "markdown",
      "metadata": {
        "id": "6eRu2UVh2evN"
      },
      "source": [
        "## 7-1"
      ]
    },
    {
      "cell_type": "code",
      "metadata": {
        "id": "SgFpFnzd2g7Y",
        "colab": {
          "base_uri": "https://localhost:8080/",
          "height": 198
        },
        "outputId": "e9729fef-d02f-4456-dd07-238b9ef6a4ee"
      },
      "source": [
        "import pandas as pd\n",
        "iris = pd.read_csv('./drive/My Drive/learning-python/iris.csv')\n",
        "iris.head(5)"
      ],
      "execution_count": null,
      "outputs": [
        {
          "output_type": "execute_result",
          "data": {
            "text/html": [
              "<div>\n",
              "<style scoped>\n",
              "    .dataframe tbody tr th:only-of-type {\n",
              "        vertical-align: middle;\n",
              "    }\n",
              "\n",
              "    .dataframe tbody tr th {\n",
              "        vertical-align: top;\n",
              "    }\n",
              "\n",
              "    .dataframe thead th {\n",
              "        text-align: right;\n",
              "    }\n",
              "</style>\n",
              "<table border=\"1\" class=\"dataframe\">\n",
              "  <thead>\n",
              "    <tr style=\"text-align: right;\">\n",
              "      <th></th>\n",
              "      <th>sepal_length</th>\n",
              "      <th>sepal_width</th>\n",
              "      <th>petal_length</th>\n",
              "      <th>petal_width</th>\n",
              "      <th>species</th>\n",
              "    </tr>\n",
              "  </thead>\n",
              "  <tbody>\n",
              "    <tr>\n",
              "      <th>0</th>\n",
              "      <td>5.1</td>\n",
              "      <td>3.5</td>\n",
              "      <td>1.4</td>\n",
              "      <td>0.2</td>\n",
              "      <td>setosa</td>\n",
              "    </tr>\n",
              "    <tr>\n",
              "      <th>1</th>\n",
              "      <td>4.9</td>\n",
              "      <td>3.0</td>\n",
              "      <td>1.4</td>\n",
              "      <td>0.2</td>\n",
              "      <td>setosa</td>\n",
              "    </tr>\n",
              "    <tr>\n",
              "      <th>2</th>\n",
              "      <td>4.7</td>\n",
              "      <td>3.2</td>\n",
              "      <td>1.3</td>\n",
              "      <td>0.2</td>\n",
              "      <td>setosa</td>\n",
              "    </tr>\n",
              "    <tr>\n",
              "      <th>3</th>\n",
              "      <td>4.6</td>\n",
              "      <td>3.1</td>\n",
              "      <td>1.5</td>\n",
              "      <td>0.2</td>\n",
              "      <td>setosa</td>\n",
              "    </tr>\n",
              "    <tr>\n",
              "      <th>4</th>\n",
              "      <td>5.0</td>\n",
              "      <td>3.6</td>\n",
              "      <td>1.4</td>\n",
              "      <td>0.2</td>\n",
              "      <td>setosa</td>\n",
              "    </tr>\n",
              "  </tbody>\n",
              "</table>\n",
              "</div>"
            ],
            "text/plain": [
              "   sepal_length  sepal_width  petal_length  petal_width species\n",
              "0           5.1          3.5           1.4          0.2  setosa\n",
              "1           4.9          3.0           1.4          0.2  setosa\n",
              "2           4.7          3.2           1.3          0.2  setosa\n",
              "3           4.6          3.1           1.5          0.2  setosa\n",
              "4           5.0          3.6           1.4          0.2  setosa"
            ]
          },
          "metadata": {
            "tags": []
          },
          "execution_count": 1
        }
      ]
    },
    {
      "cell_type": "code",
      "metadata": {
        "id": "g06JTSq84DnX"
      },
      "source": [
        "from sklearn.datasets import load_iris\n",
        "iris = load_iris()\n",
        "X_iris = iris.data\n",
        "y_iris = iris.target"
      ],
      "execution_count": null,
      "outputs": []
    },
    {
      "cell_type": "code",
      "metadata": {
        "id": "m0zzTw9e4M5y",
        "colab": {
          "base_uri": "https://localhost:8080/",
          "height": 35
        },
        "outputId": "32550b34-5708-4ce7-f948-c622efe63c1e"
      },
      "source": [
        "from sklearn.linear_model import LogisticRegression\n",
        "from sklearn.model_selection import train_test_split\n",
        "from sklearn.metrics import accuracy_score\n",
        "from sklearn.datasets import load_iris\n",
        "\n",
        "iris = load_iris()\n",
        "X_iris = iris.data # 特徴量データ\n",
        "y_iris = iris.target # ラベルデータ\n",
        "\n",
        "# 訓練データとテストデータに分割\n",
        "X_train, X_test, y_train, y_test = train_test_split(X_iris, y_iris, test_size=0.3, random_state=1, stratify=y_iris)\n",
        "\n",
        "# ロジスティック回帰モデル：solver引数には最適化手法、multi_classには多クラス分類の方法を指定\n",
        "# ここではそれぞれのデフォルト値、lbfgsとautoを指定\n",
        "model=LogisticRegression(solver='lbfgs',  multi_class='auto')\n",
        "\n",
        "model.fit(X_train, y_train) # モデルを訓練データに適合\n",
        "y_predicted=model.predict(X_test) # テストデータでラベルを予測\n",
        "accuracy_score(y_test, y_predicted) # 予測精度（accuracy）の評価"
      ],
      "execution_count": null,
      "outputs": [
        {
          "output_type": "execute_result",
          "data": {
            "text/plain": [
              "0.9777777777777777"
            ]
          },
          "metadata": {
            "tags": []
          },
          "execution_count": 8
        }
      ]
    },
    {
      "cell_type": "code",
      "metadata": {
        "id": "4dKTYaPNANNe",
        "colab": {
          "base_uri": "https://localhost:8080/",
          "height": 35
        },
        "outputId": "b2a4faee-5b6e-4fc4-b161-30161735e52d"
      },
      "source": [
        "from sklearn.linear_model import LogisticRegression\n",
        "from sklearn.model_selection import train_test_split\n",
        "from sklearn.metrics import accuracy_score\n",
        "\n",
        "iris = pd.read_csv('./drive/My Drive/learning-python/iris.csv')\n",
        "iris2=iris[(iris['species']=='versicolor')|(iris['species']=='virginica')]\n",
        "X_iris=iris2[['petal_length','petal_width']].values\n",
        "y_iris=iris2['species'].values\n",
        "\n",
        "X_train, X_test, y_train, y_test = train_test_split(X_iris, y_iris, test_size=0.3, random_state=1, stratify=y_iris)\n",
        "model=LogisticRegression(solver='lbfgs',  multi_class='auto')\n",
        "\n",
        "model.fit(X_train, y_train) # モデルを訓練データに適合\n",
        "y_predicted=model.predict(X_test) # テストデータでラベルを予測\n",
        "accuracy_score(y_test, y_predicted) # 予測精度（accuracy）の評価"
      ],
      "execution_count": null,
      "outputs": [
        {
          "output_type": "execute_result",
          "data": {
            "text/plain": [
              "0.9666666666666667"
            ]
          },
          "metadata": {
            "tags": []
          },
          "execution_count": 12
        }
      ]
    },
    {
      "cell_type": "code",
      "metadata": {
        "id": "dmmHsEP2DaH8",
        "colab": {
          "base_uri": "https://localhost:8080/",
          "height": 265
        },
        "outputId": "d2d02252-2cfc-4465-ead7-4c975c97c8b4"
      },
      "source": [
        "import numpy as np\n",
        "import matplotlib.pyplot as plt\n",
        "%matplotlib inline\n",
        "\n",
        "w2 = model.coef_[0,1]\n",
        "w1 = model.coef_[0,0]\n",
        "w0 = model.intercept_[0]\n",
        "\n",
        "line=np.linspace(3,7)\n",
        "plt.plot(line, -(w1*line+w0)/w2)\n",
        "y_c = (y_iris=='versicolor').astype(np.int)\n",
        "plt.scatter(iris2['petal_length'],iris2['petal_width'],c=y_c);"
      ],
      "execution_count": null,
      "outputs": [
        {
          "output_type": "display_data",
          "data": {
            "image/png": "[encoded data removed]",
            "text/plain": [
              "<Figure size 432x288 with 1 Axes>"
            ]
          },
          "metadata": {
            "tags": [],
            "needs_background": "light"
          }
        }
      ]
    },
    {
      "cell_type": "code",
      "metadata": {
        "id": "68GW19gSwUgr",
        "colab": {
          "base_uri": "https://localhost:8080/",
          "height": 258
        },
        "outputId": "21a9b694-d0c2-48eb-9a94-86b6d2f054ef"
      },
      "source": [
        "from sklearn.cluster import KMeans\n",
        "import pandas as pd\n",
        "import matplotlib.pyplot as plt\n",
        "%matplotlib inline\n",
        "\n",
        "iris = pd.read_csv('./drive/My Drive/learning-python/iris.csv')\n",
        "X_iris=iris[['sepal_length', 'sepal_width']].values\n",
        "model = KMeans(n_clusters=3) # k-meansモデル\n",
        "model.fit(X_iris) # モデルをデータに適合\n",
        "y_km=model.predict(X_iris) # クラスタを予測\n",
        "\n",
        "iris['cluster']=y_km\n",
        "iris.plot.scatter(x='sepal_length', y='sepal_width', c='cluster', colormap='viridis');"
      ],
      "execution_count": null,
      "outputs": [
        {
          "output_type": "display_data",
          "data": {
            "image/png": "[encoded data removed]",
            "text/plain": [
              "<Figure size 432x288 with 2 Axes>"
            ]
          },
          "metadata": {
            "tags": [],
            "needs_background": "light"
          }
        }
      ]
    },
    {
      "cell_type": "code",
      "metadata": {
        "id": "Lo_AHCNL13Vn"
      },
      "source": [
        "ada"
      ],
      "execution_count": null,
      "outputs": []
    },
    {
      "cell_type": "markdown",
      "metadata": {
        "id": "ehuyX7Cos43e"
      },
      "source": [
        "## set"
      ]
    },
    {
      "cell_type": "code",
      "metadata": {
        "id": "yl5VEYujtAqu"
      },
      "source": [
        "def check_characters(str1):\n",
        "    return len(set(str1))"
      ],
      "execution_count": null,
      "outputs": []
    },
    {
      "cell_type": "code",
      "metadata": {
        "id": "HmpyXeG9tmjZ",
        "colab": {
          "base_uri": "https://localhost:8080/",
          "height": 35
        },
        "outputId": "7bd05cf0-6072-442a-f977-cec0dbc4c044"
      },
      "source": [
        "print(check_characters('Onde a terra acaba e o mar começa') == 13)"
      ],
      "execution_count": null,
      "outputs": [
        {
          "output_type": "stream",
          "text": [
            "True\n"
          ],
          "name": "stdout"
        }
      ]
    },
    {
      "cell_type": "code",
      "metadata": {
        "id": "g0AIOkBNtqy5"
      },
      "source": [
        "def check_dicsize(dic1):\n",
        "    return len(set(dic1))"
      ],
      "execution_count": null,
      "outputs": []
    },
    {
      "cell_type": "code",
      "metadata": {
        "id": "FRWjM8XKt2pr",
        "colab": {
          "base_uri": "https://localhost:8080/",
          "height": 35
        },
        "outputId": "e15b5468-787c-43e0-ca21-15cef92f2fd8"
      },
      "source": [
        "print(check_dicsize({'apple': 0, 'orange': 2, 'pen': 1}) == 3)"
      ],
      "execution_count": null,
      "outputs": [
        {
          "output_type": "stream",
          "text": [
            "True\n"
          ],
          "name": "stdout"
        }
      ]
    },
    {
      "cell_type": "code",
      "metadata": {
        "id": "Fdqawt_9uMCA"
      },
      "source": [
        "def count_words2(str_engsentences):\n",
        "    str_engsentences = str_engsentences.split(' ')\n",
        "    return len(set(str_engsentences))"
      ],
      "execution_count": null,
      "outputs": []
    },
    {
      "cell_type": "code",
      "metadata": {
        "id": "Uc_YclSeuWAZ",
        "colab": {
          "base_uri": "https://localhost:8080/",
          "height": 35
        },
        "outputId": "5ff6be17-f504-4d5c-9e18-9b95436ea351"
      },
      "source": [
        "print(count_words2('From Stettin in the Baltic to Trieste in the Adriatic an iron curtain has descended across the Continent.') == 15)"
      ],
      "execution_count": null,
      "outputs": [
        {
          "output_type": "stream",
          "text": [
            "True\n"
          ],
          "name": "stdout"
        }
      ]
    }
  ]
}